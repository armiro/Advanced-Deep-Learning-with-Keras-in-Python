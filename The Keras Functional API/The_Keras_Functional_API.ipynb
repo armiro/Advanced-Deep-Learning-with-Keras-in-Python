{
  "nbformat": 4,
  "nbformat_minor": 0,
  "metadata": {
    "colab": {
      "name": "The Keras Functional API.ipynb",
      "version": "0.3.2",
      "provenance": [],
      "toc_visible": true,
      "include_colab_link": true
    },
    "kernelspec": {
      "name": "python3",
      "display_name": "Python 3"
    }
  },
  "cells": [
    {
      "cell_type": "markdown",
      "metadata": {
        "id": "view-in-github",
        "colab_type": "text"
      },
      "source": [
        "<a href=\"https://colab.research.google.com/github/armiro/Advanced-Deep-Learning-with-Keras-in-Python/blob/master/The%20Keras%20Functional%20API/The_Keras_Functional_API.ipynb\" target=\"_parent\"><img src=\"https://colab.research.google.com/assets/colab-badge.svg\" alt=\"Open In Colab\"/></a>"
      ]
    },
    {
      "metadata": {
        "id": "jTTirI5qGxRS",
        "colab_type": "text"
      },
      "cell_type": "markdown",
      "source": [
        "# Keras input and dense layers"
      ]
    },
    {
      "metadata": {
        "id": "xKAJX8LPil5y",
        "colab_type": "text"
      },
      "cell_type": "markdown",
      "source": [
        "## Input layers"
      ]
    },
    {
      "metadata": {
        "id": "WpoBvO1Jk99y",
        "colab_type": "text"
      },
      "cell_type": "markdown",
      "source": [
        "The first step in creating a neural network model is to define the Input layer. This layer takes in raw data, usually in the form of numpy arrays. The shape of the Input layer defines how many variables your neural network will use. For example, if the input data has 10 columns, you define an Input layer with a shape of (10,).\n",
        "\n",
        "In this case, you are only using one input in your network."
      ]
    },
    {
      "metadata": {
        "id": "xYqABP-7hjXe",
        "colab_type": "code",
        "colab": {}
      },
      "cell_type": "code",
      "source": [
        "# Import Input from keras.layers\n",
        "from keras.layers import Input\n",
        "\n",
        "# Create an input layer of shape 1\n",
        "input_tensor = Input(shape=(1,))"
      ],
      "execution_count": 0,
      "outputs": []
    },
    {
      "metadata": {
        "id": "AedVTRjIjDJW",
        "colab_type": "text"
      },
      "cell_type": "markdown",
      "source": [
        "## Dense layers"
      ]
    },
    {
      "metadata": {
        "id": "tWT1ifMOlCu3",
        "colab_type": "text"
      },
      "cell_type": "markdown",
      "source": [
        "Once you have an Input layer, the next step is to add a Dense layer.\n",
        "\n",
        "Dense layers learn a weight matrix, where the first dimension of the matrix is the dimension of the input data, and the second dimension is the dimension of the output data. Recall that your Input layer has a shape of 1. In this case, your output layer will also have a shape of 1. This means that the Dense layer will learn a 1x1 weight matrix.\n",
        "\n",
        "In this exercise, you will add a dense layer to your model, after the input layer."
      ]
    },
    {
      "metadata": {
        "id": "ntatOCpHjIbc",
        "colab_type": "code",
        "colab": {}
      },
      "cell_type": "code",
      "source": [
        "# Load layers\n",
        "from keras.layers import Input, Dense\n",
        "\n",
        "# Input layer\n",
        "input_tensor = Input(shape=(1,))\n",
        "\n",
        "# Dense layer\n",
        "output_layer = Dense(1)\n",
        "\n",
        "# Connect the dense layer to the input_tensor\n",
        "output_tensor = output_layer(input_tensor)"
      ],
      "execution_count": 0,
      "outputs": []
    },
    {
      "metadata": {
        "id": "zLhYpmoJjNOZ",
        "colab_type": "text"
      },
      "cell_type": "markdown",
      "source": [
        "## Output layers"
      ]
    },
    {
      "metadata": {
        "id": "uxmChmM5lJ_6",
        "colab_type": "text"
      },
      "cell_type": "markdown",
      "source": [
        "Output layers are simply Dense layers! Output layers are used to reduce the dimension of the inputs to the dimension of the outputs. You'll learn more about output dimensions in chapter 4, but for now, you'll always use a single output in your neural networks, which is equivalent to `Dense(1)` or a dense layer with a single unit."
      ]
    },
    {
      "metadata": {
        "id": "snnFlImxjZVh",
        "colab_type": "code",
        "colab": {}
      },
      "cell_type": "code",
      "source": [
        "# Load layers\n",
        "from keras.layers import Input, Dense\n",
        "\n",
        "# Input layer\n",
        "input_tensor = Input(shape=(1,))\n",
        "\n",
        "# Create a dense layer and connect the dense layer to the input_tensor in one step\n",
        "# Note that we did this in 2 steps in the previous exercise, but are doing it in one step now\n",
        "output_tensor = Dense(1)(input_tensor)"
      ],
      "execution_count": 0,
      "outputs": []
    },
    {
      "metadata": {
        "id": "fnXsnBLNG8oX",
        "colab_type": "text"
      },
      "cell_type": "markdown",
      "source": [
        "# Build and compile a model"
      ]
    },
    {
      "metadata": {
        "id": "BnN76N_7jdgR",
        "colab_type": "text"
      },
      "cell_type": "markdown",
      "source": [
        "## Build a model"
      ]
    },
    {
      "metadata": {
        "id": "bxu5fqxSlPKR",
        "colab_type": "text"
      },
      "cell_type": "markdown",
      "source": [
        "Once you've defined an input layer and an output layer, you can build a Keras model. The model object is how you tell Keras where the model starts and stops: where data comes in and where predictions come out."
      ]
    },
    {
      "metadata": {
        "id": "L1YjKT1MjuOd",
        "colab_type": "code",
        "colab": {}
      },
      "cell_type": "code",
      "source": [
        "# Input/dense/output layers\n",
        "from keras.layers import Input, Dense\n",
        "input_tensor = Input(shape=(1,))\n",
        "output_tensor = Dense(1)(input_tensor)\n",
        "\n",
        "# Build the model\n",
        "from keras.models import Model\n",
        "model = Model(input_tensor,output_tensor)"
      ],
      "execution_count": 0,
      "outputs": []
    },
    {
      "metadata": {
        "id": "Dh4OHPrKjwPr",
        "colab_type": "text"
      },
      "cell_type": "markdown",
      "source": [
        "## Compile a model"
      ]
    },
    {
      "metadata": {
        "id": "BdaHSdkAlVe6",
        "colab_type": "text"
      },
      "cell_type": "markdown",
      "source": [
        "The final step in creating a model is compiling it. Now that you've created a model, you have to compile it before you can fit it to data. This finalizes your model, freezes all its settings, and prepares it to meet some data!\n",
        "\n",
        "During compilation, you specify the optimizer to use for fitting the model to the data, and a loss function. `'adam'` is a good default optimizer to use, and will generally work well. Loss function depends on the problem at hand. Mean squared error is a common loss function and will optimize for predicting the mean, as is done in least squares regression.\n",
        "\n",
        "Mean absolute error optimizes for the median and is used in quantile regression. For this dataset, `'mean_absolute_error'` works pretty well, so use it as your loss function."
      ]
    },
    {
      "metadata": {
        "id": "L1m0dovHkAXm",
        "colab_type": "code",
        "colab": {}
      },
      "cell_type": "code",
      "source": [
        "# Compile the model\n",
        "model.compile(optimizer='adam', loss='mean_absolute_error')"
      ],
      "execution_count": 0,
      "outputs": []
    },
    {
      "metadata": {
        "id": "sM8566o3kTkk",
        "colab_type": "text"
      },
      "cell_type": "markdown",
      "source": [
        "## Visualize a model\n"
      ]
    },
    {
      "metadata": {
        "id": "gqDwoqLilZvE",
        "colab_type": "text"
      },
      "cell_type": "markdown",
      "source": [
        "Now that you've compiled the model, take a look a the result of your hard work! You can do this by looking at the model summary, as well as its plot.\n",
        "\n",
        "The summary will tell you the names of the layers, as well as how many units they have and how many parameters are in the model.\n",
        "\n",
        "The plot will show how the layers connect to each other.\n",
        "\n",
        "\n",
        "\n",
        "> ![model image](https://s3.amazonaws.com/assets.datacamp.com/production/course_6554/datasets/basketball_model_1.png)\n",
        "\n",
        "\n",
        "\n",
        "\n",
        "\n"
      ]
    },
    {
      "metadata": {
        "id": "VbutMygakiv7",
        "colab_type": "code",
        "colab": {}
      },
      "cell_type": "code",
      "source": [
        "# Import the plotting function\n",
        "from keras.utils import plot_model\n",
        "import matplotlib.pyplot as plt\n",
        "\n",
        "# Summarize the model\n",
        "model.summary()\n",
        "\n",
        "# Plot the model\n",
        "plot_model(model, to_file='model.png')\n",
        "\n",
        "# Display the image\n",
        "data = plt.imread('model.png')\n",
        "plt.imshow(data)\n",
        "plt.show()"
      ],
      "execution_count": 0,
      "outputs": []
    },
    {
      "metadata": {
        "id": "InbZqZg0HGhs",
        "colab_type": "text"
      },
      "cell_type": "markdown",
      "source": [
        "# Fit and evaluate a model"
      ]
    },
    {
      "metadata": {
        "id": "zCiFfDrK_Xza",
        "colab_type": "text"
      },
      "cell_type": "markdown",
      "source": [
        "## (Data preparation)"
      ]
    },
    {
      "metadata": {
        "id": "XHBfwuED_kty",
        "colab_type": "text"
      },
      "cell_type": "markdown",
      "source": [
        "Here we prepare the data by reading a `.csv` file using Pandas module and split it into train and test datasets using scikit-learn `train_test_split` function."
      ]
    },
    {
      "metadata": {
        "id": "K-8Elk59_q7f",
        "colab_type": "code",
        "colab": {}
      },
      "cell_type": "code",
      "source": [
        "# Import required libraries\n",
        "from pandas import read_csv\n",
        "from sklearn.model_selection import train_test_split\n",
        "\n",
        "# Read the data from a csv file\n",
        "dataset = read_csv(filepath_or_buffer='games_tourney.csv')\n",
        "\n",
        "# Split the data into test and train datasets\n",
        "games_tourney_train, games_tourney_test= train_test_split(dataset, \n",
        "                                                          test_size=0.2, \n",
        "                                                          random_state=0)"
      ],
      "execution_count": 0,
      "outputs": []
    },
    {
      "metadata": {
        "id": "r2PHGU50n4VM",
        "colab_type": "text"
      },
      "cell_type": "markdown",
      "source": [
        "## Fit the model to the tournament basketball data"
      ]
    },
    {
      "metadata": {
        "id": "UjTbW2BUn5eq",
        "colab_type": "text"
      },
      "cell_type": "markdown",
      "source": [
        "Now that the model is compiled, you are ready to fit it to some data!\n",
        "\n",
        "In this exercise, you'll use a dataset of scores from US College Basketball tournament games. Each row of the dataset has the team ids: `team_1` and `team_2`, as integers. It also has the seed difference between the teams (seeds are assigned by the tournament committee and represent a ranking of how strong the teams are) and the score difference of the game (e.g. if `team_1` wins by 5 points, the score difference is `5`).\n",
        "\n",
        "To fit the model, you provide a matrix of X variables (in this case one column: the seed difference) and a matrix of Y variables (in this case one column: the score difference).\n",
        "\n",
        "The `games_tourney` DataFrame along with the compiled `model` object is available in your workspace."
      ]
    },
    {
      "metadata": {
        "id": "olXRqEZcocBd",
        "colab_type": "code",
        "colab": {}
      },
      "cell_type": "code",
      "source": [
        "# Now fit the model\n",
        "model.fit(x=games_tourney_train['seed_diff'], \n",
        "          y=games_tourney_train['score_diff'],\n",
        "          epochs=1,\n",
        "          batch_size=128,\n",
        "          validation_split=0.1,\n",
        "          verbose=True)"
      ],
      "execution_count": 0,
      "outputs": []
    },
    {
      "metadata": {
        "id": "kSp7ORuMpQwQ",
        "colab_type": "text"
      },
      "cell_type": "markdown",
      "source": [
        "## Evaluate the model on a test set"
      ]
    },
    {
      "metadata": {
        "id": "PACzqSAppTH0",
        "colab_type": "text"
      },
      "cell_type": "markdown",
      "source": [
        "After fitting the model, you can evaluate it on new data. You will give the model a new `X` matrix (also called test data), allow it to make predictions, and then compare to the known `y` variable (also called target data).\n",
        "\n",
        "In this case, you'll use data from the post-season tournament to evaluate your model. The tournament games happen after the regular season games you used to train our model, and are therefore a good evaluation of how well your model performs out-of-sample.\n",
        "\n",
        "The `games_tourney_test` DataFrame along with the fitted `model` object is available in your workspace."
      ]
    },
    {
      "metadata": {
        "id": "J4qJV35NpbU7",
        "colab_type": "code",
        "colab": {}
      },
      "cell_type": "code",
      "source": [
        "# Load the X variable from the test data\n",
        "X_test = games_tourney_test['seed_diff']\n",
        "\n",
        "# Load the y variable from the test data\n",
        "y_test = games_tourney_test['score_diff']\n",
        "\n",
        "# Evaluate the model on the test data\n",
        "model.evaluate(x=X_test, y=y_test, verbose=True)"
      ],
      "execution_count": 0,
      "outputs": []
    }
  ]
}